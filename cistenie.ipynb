{
  "cells": [
    {
      "metadata": {
        "trusted": true,
        "scrolled": true
      },
      "cell_type": "code",
      "source": "import pandas as pd\nimport numpy as np \ndata = pd.read_csv('Fodor_Log.csv', header= None,sep=';')",
      "execution_count": 13,
      "outputs": [
        {
          "output_type": "stream",
          "text": "/home/nbuser/anaconda3_501/lib/python3.6/site-packages/IPython/core/interactiveshell.py:3020: DtypeWarning: Columns (4,5,12,13) have mixed types. Specify dtype option on import or set low_memory=False.\n  interactivity=interactivity, compiler=compiler, result=result)\n",
          "name": "stderr"
        }
      ]
    },
    {
      "metadata": {
        "trusted": true,
        "scrolled": false
      },
      "cell_type": "code",
      "source": "data.head()",
      "execution_count": 14,
      "outputs": [
        {
          "output_type": "execute_result",
          "execution_count": 14,
          "data": {
            "text/html": "<div>\n<style scoped>\n    .dataframe tbody tr th:only-of-type {\n        vertical-align: middle;\n    }\n\n    .dataframe tbody tr th {\n        vertical-align: top;\n    }\n\n    .dataframe thead th {\n        text-align: right;\n    }\n</style>\n<table border=\"1\" class=\"dataframe\">\n  <thead>\n    <tr style=\"text-align: right;\">\n      <th></th>\n      <th>0</th>\n      <th>1</th>\n      <th>2</th>\n      <th>3</th>\n      <th>4</th>\n      <th>5</th>\n      <th>6</th>\n      <th>7</th>\n      <th>8</th>\n      <th>9</th>\n      <th>10</th>\n      <th>11</th>\n      <th>12</th>\n      <th>13</th>\n    </tr>\n  </thead>\n  <tbody>\n    <tr>\n      <th>0</th>\n      <td>195.91.111.125</td>\n      <td>-</td>\n      <td>10/Oct/2011:00:01:25</td>\n      <td>GET /udalosti/1925-Nitrianske-univerzitne-dni-...</td>\n      <td>200</td>\n      <td>5729</td>\n      <td>http://www.google.sk/url?sa=t&amp;source=web&amp;cd=1&amp;...</td>\n      <td>Mozilla/5.0 (Windows NT 6.1; WOW64) AppleWebKi...</td>\n      <td>NaN</td>\n      <td>NaN</td>\n      <td>NaN</td>\n      <td>NaN</td>\n      <td>NaN</td>\n      <td>NaN</td>\n    </tr>\n    <tr>\n      <th>1</th>\n      <td>69.4.231.200</td>\n      <td>-</td>\n      <td>10/Oct/2011:00:02:32</td>\n      <td>GET /media-ukf/irs?option=com_rsgallery2&amp;page=...</td>\n      <td>404</td>\n      <td>2132</td>\n      <td>-</td>\n      <td>Mozilla/4.0 (compatible; MSIE 6.0; Windows NT ...</td>\n      <td>NaN</td>\n      <td>NaN</td>\n      <td>NaN</td>\n      <td>NaN</td>\n      <td>NaN</td>\n      <td>NaN</td>\n    </tr>\n    <tr>\n      <th>2</th>\n      <td>69.4.231.200</td>\n      <td>-</td>\n      <td>10/Oct/2011:00:03:08</td>\n      <td>GET /media-ukf/irs?option=com_rsgallery2&amp;page=...</td>\n      <td>404</td>\n      <td>2132</td>\n      <td>-</td>\n      <td>Mozilla/4.0 (compatible; MSIE 6.0; Windows NT ...</td>\n      <td>NaN</td>\n      <td>NaN</td>\n      <td>NaN</td>\n      <td>NaN</td>\n      <td>NaN</td>\n      <td>NaN</td>\n    </tr>\n    <tr>\n      <th>3</th>\n      <td>195.168.176.130</td>\n      <td>-</td>\n      <td>10/Oct/2011:00:03:38</td>\n      <td>GET /priame-odkazy/206-Moznosti-studia-v-akade...</td>\n      <td>200</td>\n      <td>4492</td>\n      <td>http://www.ukf.sk/</td>\n      <td>Mozilla/5.0 (Windows NT 5.1) AppleWebKit/535.1...</td>\n      <td>NaN</td>\n      <td>NaN</td>\n      <td>NaN</td>\n      <td>NaN</td>\n      <td>NaN</td>\n      <td>NaN</td>\n    </tr>\n    <tr>\n      <th>4</th>\n      <td>195.168.176.130</td>\n      <td>-</td>\n      <td>10/Oct/2011:00:03:40</td>\n      <td>GET /prijimaciekonanie/moznosti-vs-studia HTTP...</td>\n      <td>200</td>\n      <td>5373</td>\n      <td>http://www.ukf.sk/priame-odkazy/206-Moznosti-s...</td>\n      <td>Mozilla/5.0 (Windows NT 5.1) AppleWebKit/535.1...</td>\n      <td>NaN</td>\n      <td>NaN</td>\n      <td>NaN</td>\n      <td>NaN</td>\n      <td>NaN</td>\n      <td>NaN</td>\n    </tr>\n  </tbody>\n</table>\n</div>",
            "text/plain": "                0  1                     2   \\\n0   195.91.111.125  -  10/Oct/2011:00:01:25   \n1     69.4.231.200  -  10/Oct/2011:00:02:32   \n2     69.4.231.200  -  10/Oct/2011:00:03:08   \n3  195.168.176.130  -  10/Oct/2011:00:03:38   \n4  195.168.176.130  -  10/Oct/2011:00:03:40   \n\n                                                  3    4     5   \\\n0  GET /udalosti/1925-Nitrianske-univerzitne-dni-...  200  5729   \n1  GET /media-ukf/irs?option=com_rsgallery2&page=...  404  2132   \n2  GET /media-ukf/irs?option=com_rsgallery2&page=...  404  2132   \n3  GET /priame-odkazy/206-Moznosti-studia-v-akade...  200  4492   \n4  GET /prijimaciekonanie/moznosti-vs-studia HTTP...  200  5373   \n\n                                                  6   \\\n0  http://www.google.sk/url?sa=t&source=web&cd=1&...   \n1                                                  -   \n2                                                  -   \n3                                 http://www.ukf.sk/   \n4  http://www.ukf.sk/priame-odkazy/206-Moznosti-s...   \n\n                                                  7    8    9   10  11   12  \\\n0  Mozilla/5.0 (Windows NT 6.1; WOW64) AppleWebKi...  NaN  NaN NaN NaN  NaN   \n1  Mozilla/4.0 (compatible; MSIE 6.0; Windows NT ...  NaN  NaN NaN NaN  NaN   \n2  Mozilla/4.0 (compatible; MSIE 6.0; Windows NT ...  NaN  NaN NaN NaN  NaN   \n3  Mozilla/5.0 (Windows NT 5.1) AppleWebKit/535.1...  NaN  NaN NaN NaN  NaN   \n4  Mozilla/5.0 (Windows NT 5.1) AppleWebKit/535.1...  NaN  NaN NaN NaN  NaN   \n\n    13  \n0  NaN  \n1  NaN  \n2  NaN  \n3  NaN  \n4  NaN  "
          },
          "metadata": {}
        }
      ]
    },
    {
      "metadata": {
        "trusted": true
      },
      "cell_type": "code",
      "source": "dirty = open('dirty.csv','w+')\nclean = open('clean.csv','w+')\n\ndata.to_csv(r'dirty.csv',index= None,sep = ',',mode='a')",
      "execution_count": 15,
      "outputs": []
    },
    {
      "metadata": {
        "trusted": true
      },
      "cell_type": "code",
      "source": "rows = len(open('dirty.csv').readlines( ))\ncount_lines = 0\ncount_clear_lines = 0\ntokens = ['.js','.jpg','.css','.png','.flv','.gif','.ico','.jpeg','.swf','.rss','.xml','.cur',' 400 ',\n         ' 401 ',' 402 ',' 403 ',' 404 ',' 405 ',' 406 ',' 407 ',' 408 ',' 409 ',' 410 ',' 411 ',' 412 ',\n        ' 413 ',' 414 ',' 415 ',' 416 ',' 417 ',' 418 ',' 419 ',' 420 ',' 421 ',' 422 ',' 423 ',' 424 ',\n        ' 425 ',' 426 ',' 427 ',' 428 ',' 429 ',' 430 ',' 431 ', ' 500 ',' 501 ', ' 502 ',' 503 ', ' 504 ',\n         ' 505 ',' 506 ',' 507 ',' 508 ',' 509 ',' 510 ',' 511 ']\nbots = ['bot', 'crawl', 'spider']\nip_adress_robots = []",
      "execution_count": 16,
      "outputs": []
    },
    {
      "metadata": {
        "trusted": true
      },
      "cell_type": "code",
      "source": "with open('dirty.csv') as dt:\n    line = dt.readline()\n    while line:\n        count_lines += 1\n        row = dt.readline()\n        if count_lines == rows:\n            break\n        if any(bot in row for bot in bots):\n            ip_robot = row.split(',')[0]\n            if not ip_robot in tokens:\n                tokens.append(ip_robot)\n                ip_adress_robots.append(ip_robot)",
      "execution_count": 17,
      "outputs": []
    },
    {
      "metadata": {
        "trusted": true,
        "scrolled": false
      },
      "cell_type": "code",
      "source": "\nprint(tokens)\nprint(count_lines)\nprint(count_clear_lines)\nprint(ip_adress_robots)",
      "execution_count": 18,
      "outputs": [
        {
          "output_type": "stream",
          "text": "['.js', '.jpg', '.css', '.png', '.flv', '.gif', '.ico', '.jpeg', '.swf', '.rss', '.xml', '.cur', ' 400 ', ' 401 ', ' 402 ', ' 403 ', ' 404 ', ' 405 ', ' 406 ', ' 407 ', ' 408 ', ' 409 ', ' 410 ', ' 411 ', ' 412 ', ' 413 ', ' 414 ', ' 415 ', ' 416 ', ' 417 ', ' 418 ', ' 419 ', ' 420 ', ' 421 ', ' 422 ', ' 423 ', ' 424 ', ' 425 ', ' 426 ', ' 427 ', ' 428 ', ' 429 ', ' 430 ', ' 431 ', ' 500 ', ' 501 ', ' 502 ', ' 503 ', ' 504 ', ' 505 ', ' 506 ', ' 507 ', ' 508 ', ' 509 ', ' 510 ', ' 511 ', '157.55.50.10', '157.55.50.11', '157.55.107.141', '157.55.50.76', '207.46.199.177', '89.173.143.90', '85.237.224.63', '207.46.199.189', '157.55.50.12', '117.215.17.95', '62.168.112.42', '157.55.50.77', '87.106.146.181', '95.31.135.150', '193.238.39.68', '94.181.186.142', '178.91.69.67', '46.167.82.253', '178.67.77.117', '83.149.1.193', '212.3.145.231', '88.81.49.23', '92.113.65.20', '109.184.74.130', '95.134.239.105', '95.30.71.207', '89.252.16.110', '95.26.246.112', '188.234.145.33', '91.76.121.122', '92.101.130.168', '109.122.11.252', '89.169.139.146', '92.245.61.236', '194.28.140.159', '109.232.117.27', '79.142.87.2', '193.87.108.34', '64.121.56.246', '147.175.23.136', '157.55.50.78', '120.33.244.68']\n88625\n0\n['157.55.50.10', '157.55.50.11', '157.55.107.141', '157.55.50.76', '207.46.199.177', '89.173.143.90', '85.237.224.63', '207.46.199.189', '157.55.50.12', '117.215.17.95', '62.168.112.42', '157.55.50.77', '87.106.146.181', '95.31.135.150', '193.238.39.68', '94.181.186.142', '178.91.69.67', '46.167.82.253', '178.67.77.117', '83.149.1.193', '212.3.145.231', '88.81.49.23', '92.113.65.20', '109.184.74.130', '95.134.239.105', '95.30.71.207', '89.252.16.110', '95.26.246.112', '188.234.145.33', '91.76.121.122', '92.101.130.168', '109.122.11.252', '89.169.139.146', '92.245.61.236', '194.28.140.159', '109.232.117.27', '79.142.87.2', '193.87.108.34', '64.121.56.246', '147.175.23.136', '157.55.50.78', '120.33.244.68']\n",
          "name": "stdout"
        }
      ]
    },
    {
      "metadata": {
        "trusted": true,
        "scrolled": true
      },
      "cell_type": "code",
      "source": "count_lines = 0\ncount_clear_lines = 0\n\nwith open('dirty.csv') as dt:\n    line = dt.readline()\n    while line:\n        count_lines += 1\n        row = dt.readline()\n        if count_lines == rows:\n            break\n        if not any(token in row for token in tokens):\n            count_clear_lines += 1\n            clean.write(row)\n\nprint(count_lines)\nprint(count_clear_lines)",
      "execution_count": 19,
      "outputs": [
        {
          "output_type": "stream",
          "text": "88625\n82663\n",
          "name": "stdout"
        }
      ]
    },
    {
      "metadata": {
        "trusted": true
      },
      "cell_type": "code",
      "source": "",
      "execution_count": null,
      "outputs": []
    },
    {
      "metadata": {
        "trusted": true
      },
      "cell_type": "code",
      "source": "data.head()",
      "execution_count": 20,
      "outputs": [
        {
          "output_type": "execute_result",
          "execution_count": 20,
          "data": {
            "text/html": "<div>\n<style scoped>\n    .dataframe tbody tr th:only-of-type {\n        vertical-align: middle;\n    }\n\n    .dataframe tbody tr th {\n        vertical-align: top;\n    }\n\n    .dataframe thead th {\n        text-align: right;\n    }\n</style>\n<table border=\"1\" class=\"dataframe\">\n  <thead>\n    <tr style=\"text-align: right;\">\n      <th></th>\n      <th>0</th>\n      <th>1</th>\n      <th>2</th>\n      <th>3</th>\n      <th>4</th>\n      <th>5</th>\n      <th>6</th>\n      <th>7</th>\n      <th>8</th>\n      <th>9</th>\n      <th>10</th>\n      <th>11</th>\n      <th>12</th>\n      <th>13</th>\n    </tr>\n  </thead>\n  <tbody>\n    <tr>\n      <th>0</th>\n      <td>195.91.111.125</td>\n      <td>-</td>\n      <td>10/Oct/2011:00:01:25</td>\n      <td>GET /udalosti/1925-Nitrianske-univerzitne-dni-...</td>\n      <td>200</td>\n      <td>5729</td>\n      <td>http://www.google.sk/url?sa=t&amp;source=web&amp;cd=1&amp;...</td>\n      <td>Mozilla/5.0 (Windows NT 6.1; WOW64) AppleWebKi...</td>\n      <td>NaN</td>\n      <td>NaN</td>\n      <td>NaN</td>\n      <td>NaN</td>\n      <td>NaN</td>\n      <td>NaN</td>\n    </tr>\n    <tr>\n      <th>1</th>\n      <td>69.4.231.200</td>\n      <td>-</td>\n      <td>10/Oct/2011:00:02:32</td>\n      <td>GET /media-ukf/irs?option=com_rsgallery2&amp;page=...</td>\n      <td>404</td>\n      <td>2132</td>\n      <td>-</td>\n      <td>Mozilla/4.0 (compatible; MSIE 6.0; Windows NT ...</td>\n      <td>NaN</td>\n      <td>NaN</td>\n      <td>NaN</td>\n      <td>NaN</td>\n      <td>NaN</td>\n      <td>NaN</td>\n    </tr>\n    <tr>\n      <th>2</th>\n      <td>69.4.231.200</td>\n      <td>-</td>\n      <td>10/Oct/2011:00:03:08</td>\n      <td>GET /media-ukf/irs?option=com_rsgallery2&amp;page=...</td>\n      <td>404</td>\n      <td>2132</td>\n      <td>-</td>\n      <td>Mozilla/4.0 (compatible; MSIE 6.0; Windows NT ...</td>\n      <td>NaN</td>\n      <td>NaN</td>\n      <td>NaN</td>\n      <td>NaN</td>\n      <td>NaN</td>\n      <td>NaN</td>\n    </tr>\n    <tr>\n      <th>3</th>\n      <td>195.168.176.130</td>\n      <td>-</td>\n      <td>10/Oct/2011:00:03:38</td>\n      <td>GET /priame-odkazy/206-Moznosti-studia-v-akade...</td>\n      <td>200</td>\n      <td>4492</td>\n      <td>http://www.ukf.sk/</td>\n      <td>Mozilla/5.0 (Windows NT 5.1) AppleWebKit/535.1...</td>\n      <td>NaN</td>\n      <td>NaN</td>\n      <td>NaN</td>\n      <td>NaN</td>\n      <td>NaN</td>\n      <td>NaN</td>\n    </tr>\n    <tr>\n      <th>4</th>\n      <td>195.168.176.130</td>\n      <td>-</td>\n      <td>10/Oct/2011:00:03:40</td>\n      <td>GET /prijimaciekonanie/moznosti-vs-studia HTTP...</td>\n      <td>200</td>\n      <td>5373</td>\n      <td>http://www.ukf.sk/priame-odkazy/206-Moznosti-s...</td>\n      <td>Mozilla/5.0 (Windows NT 5.1) AppleWebKit/535.1...</td>\n      <td>NaN</td>\n      <td>NaN</td>\n      <td>NaN</td>\n      <td>NaN</td>\n      <td>NaN</td>\n      <td>NaN</td>\n    </tr>\n  </tbody>\n</table>\n</div>",
            "text/plain": "                0  1                     2   \\\n0   195.91.111.125  -  10/Oct/2011:00:01:25   \n1     69.4.231.200  -  10/Oct/2011:00:02:32   \n2     69.4.231.200  -  10/Oct/2011:00:03:08   \n3  195.168.176.130  -  10/Oct/2011:00:03:38   \n4  195.168.176.130  -  10/Oct/2011:00:03:40   \n\n                                                  3    4     5   \\\n0  GET /udalosti/1925-Nitrianske-univerzitne-dni-...  200  5729   \n1  GET /media-ukf/irs?option=com_rsgallery2&page=...  404  2132   \n2  GET /media-ukf/irs?option=com_rsgallery2&page=...  404  2132   \n3  GET /priame-odkazy/206-Moznosti-studia-v-akade...  200  4492   \n4  GET /prijimaciekonanie/moznosti-vs-studia HTTP...  200  5373   \n\n                                                  6   \\\n0  http://www.google.sk/url?sa=t&source=web&cd=1&...   \n1                                                  -   \n2                                                  -   \n3                                 http://www.ukf.sk/   \n4  http://www.ukf.sk/priame-odkazy/206-Moznosti-s...   \n\n                                                  7    8    9   10  11   12  \\\n0  Mozilla/5.0 (Windows NT 6.1; WOW64) AppleWebKi...  NaN  NaN NaN NaN  NaN   \n1  Mozilla/4.0 (compatible; MSIE 6.0; Windows NT ...  NaN  NaN NaN NaN  NaN   \n2  Mozilla/4.0 (compatible; MSIE 6.0; Windows NT ...  NaN  NaN NaN NaN  NaN   \n3  Mozilla/5.0 (Windows NT 5.1) AppleWebKit/535.1...  NaN  NaN NaN NaN  NaN   \n4  Mozilla/5.0 (Windows NT 5.1) AppleWebKit/535.1...  NaN  NaN NaN NaN  NaN   \n\n    13  \n0  NaN  \n1  NaN  \n2  NaN  \n3  NaN  \n4  NaN  "
          },
          "metadata": {}
        }
      ]
    },
    {
      "metadata": {
        "trusted": true
      },
      "cell_type": "code",
      "source": "",
      "execution_count": null,
      "outputs": []
    }
  ],
  "metadata": {
    "kernelspec": {
      "name": "python36",
      "display_name": "Python 3.6",
      "language": "python"
    },
    "language_info": {
      "mimetype": "text/x-python",
      "nbconvert_exporter": "python",
      "name": "python",
      "pygments_lexer": "ipython3",
      "version": "3.6.6",
      "file_extension": ".py",
      "codemirror_mode": {
        "version": 3,
        "name": "ipython"
      }
    }
  },
  "nbformat": 4,
  "nbformat_minor": 2
}